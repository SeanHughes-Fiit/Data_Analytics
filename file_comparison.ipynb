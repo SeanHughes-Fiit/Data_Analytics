{
 "cells": [
  {
   "cell_type": "code",
   "execution_count": 6,
   "metadata": {},
   "outputs": [
    {
     "name": "stdout",
     "output_type": "stream",
     "text": [
      "Line  1 : IDENTICAL\n",
      "Line  2 :\n",
      "\tFile 1: 766ec45d-a19b-4716-9a17-80520599af79,Dexters Clapham High Street Lettings,Voided,Contract - 7 Marlborough Mews,6/27/2022 17:36,6/27/2022 17:44,7/4/2022 10:55,,7/5/2022 14:46,,,,b97ff75a-8173-42f6-8653-3fd625ed4e98,Sean Gerard Hughes,seanyghughes@gmail.com,Signer,1,Completed,6/29/2022 8:16,6/30/2022 17:07,,\n",
      "\tFile 2: d7c575c7-0f7f-4301-a118-8d6c5292dfc8,Dexters Clapham High Street Lettings,Sent,\"New Contract - 7 Marlborough Mews \",7/5/2022 16:49,7/5/2022 16:55,7/5/2022 16:55,,,,,,9e237c37-5c71-4eb6-902b-65a13f1bd92b,Sean Gerard Hughes,seanyghughes@gmail.com,Signer,1,Completed,7/5/2022 16:56,7/5/2022 17:00,,\n"
     ]
    }
   ],
   "source": [
    "f1 = open(\"/Users/seanhughes/Desktop/Original contract - brixton.csv\", \"r\")  \n",
    "f2 = open(\"/Users/seanhughes/Desktop/New contract - brixton.csv\", \"r\")  \n",
    "i = 0\n",
    "  \n",
    "for line1 in f1:\n",
    "    i += 1\n",
    "      \n",
    "    for line2 in f2:\n",
    "          \n",
    "        # matching line1 from both files\n",
    "        if line1 == line2:  \n",
    "            # print IDENTICAL if similar\n",
    "            print(\"Line \", i, \": IDENTICAL\")       \n",
    "        else:\n",
    "            print(\"Line \", i, \":\")\n",
    "            # else print that line from both files\n",
    "            print(\"\\tFile 1:\", line1, end='')\n",
    "            print(\"\\tFile 2:\", line2, end='')\n",
    "        break\n",
    "  \n",
    "# closing files\n",
    "f1.close()                                       \n",
    "f2.close()                     \n"
   ]
  },
  {
   "cell_type": "code",
   "execution_count": null,
   "metadata": {},
   "outputs": [],
   "source": []
  }
 ],
 "metadata": {
  "kernelspec": {
   "display_name": "Python 3.10.0 64-bit",
   "language": "python",
   "name": "python3"
  },
  "language_info": {
   "codemirror_mode": {
    "name": "ipython",
    "version": 3
   },
   "file_extension": ".py",
   "mimetype": "text/x-python",
   "name": "python",
   "nbconvert_exporter": "python",
   "pygments_lexer": "ipython3",
   "version": "3.10.0"
  },
  "orig_nbformat": 4,
  "vscode": {
   "interpreter": {
    "hash": "7e1998ff7f8aa20ada591c520b972326324e5ea05489af9e422744c7c09f6dad"
   }
  }
 },
 "nbformat": 4,
 "nbformat_minor": 2
}
